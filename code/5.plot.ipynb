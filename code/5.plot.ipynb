{
 "cells": [
  {
   "cell_type": "code",
   "execution_count": null,
   "metadata": {},
   "outputs": [],
   "source": [
    "import numpy as np\n",
    "import matplotlib.pyplot as plt; plt.ion()\n",
    "from pr2_utils import plot_odometry\n",
    "\n",
    "datasets = [20, 21]\n",
    "odo_strs = [\"imu\", \"icp\", \"lc0\", \"lc1\"]\n",
    "\n",
    "for dataset in datasets:\n",
    "    odo_str = \"imu\"\n",
    "    with np.load(f\"../data/odometry_{dataset}_{odo_str}.npz\") as data:\n",
    "        imu_odometry = data[\"X\"]\n",
    "        imu_odometry_stamp = data[\"stamps\"]\n",
    "\n",
    "    odo_str = \"icp\"\n",
    "    with np.load(f\"../data/odometry_{dataset}_{odo_str}.npz\") as data:\n",
    "        icp_odometry = data[\"X\"]\n",
    "        icp_odometry_stamp = data[\"stamps\"]\n",
    "\n",
    "    odo_str = \"lc0\"\n",
    "    with np.load(f\"../data/odometry_{dataset}_{odo_str}.npz\") as data:\n",
    "        lc0_odometry = data[\"X\"]\n",
    "        lc0_odometry_stamp = data[\"stamps\"]\n",
    "\n",
    "    odo_str = \"lc1\"\n",
    "    with np.load(f\"../data/odometry_{dataset}_{odo_str}.npz\") as data:\n",
    "        lc1_odometry = data[\"X\"]\n",
    "        lc1_odometry_stamp = data[\"stamps\"]\n",
    "\n",
    "    plot_odometry([\n",
    "        (imu_odometry, imu_odometry_stamp, \"imu (motion)\"),\n",
    "        (icp_odometry, icp_odometry_stamp, \"icp (observation)\"),\n",
    "        (lc0_odometry, lc0_odometry_stamp, \"factor graph optimized\", {\"linestyle\":'--'}),\n",
    "        (lc1_odometry, lc1_odometry_stamp, \"loop closure optimized\", {\"linestyle\":'--'}),\n",
    "    ], {\"loc\":'lower center', \"bbox_to_anchor\":(0.5, -0.3), \"shadow\":False, \"ncol\":2})"
   ]
  }
 ],
 "metadata": {
  "kernelspec": {
   "display_name": "base",
   "language": "python",
   "name": "python3"
  },
  "language_info": {
   "codemirror_mode": {
    "name": "ipython",
    "version": 3
   },
   "file_extension": ".py",
   "mimetype": "text/x-python",
   "name": "python",
   "nbconvert_exporter": "python",
   "pygments_lexer": "ipython3",
   "version": "3.11.7"
  }
 },
 "nbformat": 4,
 "nbformat_minor": 2
}
