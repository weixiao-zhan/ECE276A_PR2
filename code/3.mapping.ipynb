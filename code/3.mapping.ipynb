{
 "cells": [
  {
   "cell_type": "code",
   "execution_count": null,
   "metadata": {},
   "outputs": [],
   "source": [
    "from pr2_utils import *\n",
    "import cv2\n",
    "import open3d as o3d"
   ]
  },
  {
   "cell_type": "code",
   "execution_count": null,
   "metadata": {},
   "outputs": [],
   "source": [
    "dataset = 21\n",
    "odo_str = \"lc0\"\n",
    "\n",
    "with np.load(f\"../data/Hokuyo{dataset}.npz\") as data:\n",
    "    lidar_ranges = data[\"ranges\"].T       # range data [m] (Note: values < range_min or > range_max should be discarded)\n",
    "    lidar_stamps = data[\"time_stamps\"]  # acquisition times of the lidar scans\n",
    "\n",
    "with np.load(f\"../data/odometry_{dataset}_{odo_str}.npz\") as data:\n",
    "    odometry = data[\"X\"]\n",
    "    odometry_stamp = data[\"stamps\"]\n",
    "\n",
    "f_odometry = InterpN1D(odometry_stamp, odometry)"
   ]
  },
  {
   "cell_type": "code",
   "execution_count": null,
   "metadata": {},
   "outputs": [],
   "source": [
    "map_resolution = 20\n",
    "map_size = (np.ceil((np.max(odometry, axis=0)-np.min(odometry, axis=0))[:2] + lidar_range_max)).astype(int)[::-1] * map_resolution \n",
    "map_center= (np.ceil(-np.min(odometry, axis=0)[:2] + 0.5*lidar_range_max)).astype(int)[::-1] * map_resolution\n",
    "\n",
    "map_size, map_center"
   ]
  },
  {
   "cell_type": "markdown",
   "metadata": {},
   "source": [
    "# Occupancy map"
   ]
  },
  {
   "cell_type": "code",
   "execution_count": null,
   "metadata": {},
   "outputs": [],
   "source": [
    "occupancy_map = np.zeros(map_size, dtype=int)\n",
    "# bar = tqdm(range(0,100))\n",
    "bar= tqdm(range(lidar_stamps.shape[0]))\n",
    "for i in bar:\n",
    "    pc_coord_body = lidar_scan_to_3dpc(lidar_ranges[i])\n",
    "    \n",
    "    odo = f_odometry(lidar_stamps[i])\n",
    "    wTo = odometry_to_transformation(odo)\n",
    "    r, t = get_Rt(wTo)\n",
    "    pc_coord_world = (r @ pc_coord_body.T).T + t\n",
    "    pc_coord_map = map_resolution*pc_coord_world[:,:2] + map_center\n",
    "\n",
    "    lines = []\n",
    "    sx, sy = (map_resolution*odo[:2]+ map_center).astype(int)\n",
    "    for point in pc_coord_map.astype(int):\n",
    "        ex, ey = point.astype(int)\n",
    "        lines.append(bresenham2D(sx, sy, ex, ey).T.astype(int))\n",
    "    empty_points = np.unique(np.vstack(lines), axis=0, return_index=False)\n",
    "    valid_mask = (0 <= empty_points[:, 0]) & (empty_points[:, 0] < occupancy_map.shape[1]) & \\\n",
    "        (0 <= empty_points[:, 1]) & (empty_points[:, 1] < occupancy_map.shape[0])\n",
    "    filtered_points = empty_points[valid_mask]\n",
    "    occupancy_map[filtered_points[:, 1], filtered_points[:, 0]] -= 1\n",
    "\n",
    "    endpoints = pc_coord_map.astype(int)\n",
    "    endpoint_mask = (0 <= endpoints[:, 0]) & (endpoints[:, 0] < occupancy_map.shape[1]) & \\\n",
    "                    (0 <= endpoints[:, 1]) & (endpoints[:, 1] < occupancy_map.shape[0])\n",
    "    filtered_endpoints = endpoints[endpoint_mask]\n",
    "    occupancy_map[filtered_endpoints[:, 1], filtered_endpoints[:, 0]] += 4\n"
   ]
  },
  {
   "cell_type": "code",
   "execution_count": null,
   "metadata": {},
   "outputs": [],
   "source": [
    "probability_map = 1 / (1 + np.exp(-occupancy_map, dtype=np.float64))\n",
    "# Plotting\n",
    "plt.figure(figsize=(10, 8))\n",
    "plt.imshow(probability_map, cmap='viridis', origin='lower')\n",
    "plt.colorbar(label='Probability of Occupancy')\n",
    "plt.title('Occupancy Probability Map')\n",
    "\n",
    "odometry_map = map_resolution*odometry[:,:2] + map_center\n",
    "plt.plot(odometry_map[:,0], odometry_map[:,1], color='white', linewidth=1, label=f'{odo_str} trajectory')\n",
    "plt.legend()\n",
    "plt.show()"
   ]
  },
  {
   "cell_type": "markdown",
   "metadata": {},
   "source": [
    "# texture mapping\n",
    "\n",
    "using disp time stamp as the standard time"
   ]
  },
  {
   "cell_type": "code",
   "execution_count": null,
   "metadata": {},
   "outputs": [],
   "source": [
    "with np.load(\"../data/Kinect%d.npz\"%dataset) as data:\n",
    "    disp_stamps = data[\"disparity_time_stamps\"] # acquisition times of the disparity images\n",
    "    rgb_stamps = data[\"rgb_time_stamps\"] # acquisition times of the rgb images\n",
    "\n",
    "f_rgb_index = interp1d(rgb_stamps, np.arange(1, rgb_stamps.shape[0]+1), kind='nearest')"
   ]
  },
  {
   "cell_type": "code",
   "execution_count": null,
   "metadata": {},
   "outputs": [],
   "source": [
    "def rgbd_to_3dpc(d_img, rgb_img, disparity_max=1088, step=2):\n",
    "    '''\n",
    "    input: RGBD img.\n",
    "    return: coords in camera frame, and their associated rgb values\n",
    "    '''\n",
    "    disparity = d_img[::step, ::step].flatten().astype(np.float32)\n",
    "    d_mask = disparity < disparity_max\n",
    "    dd = (-0.00304 * disparity[d_mask] + 3.31)\n",
    "    z = 1.03 / dd\n",
    "    \n",
    "    v,u = np.mgrid[\n",
    "        0:d_img.shape[0]:step,\n",
    "        0:d_img.shape[1]:step\n",
    "    ]\n",
    "    u = u.flatten()[d_mask]\n",
    "    v = v.flatten()[d_mask]\n",
    "\n",
    "    # get 3D coordinates \n",
    "    fx = 585.05108211\n",
    "    fy = 585.05108211\n",
    "    cx = 315.83800193\n",
    "    cy = 242.94140713\n",
    "    x = (u-cx) / fx * z\n",
    "    y = (v-cy) / fy * z\n",
    "    \n",
    "    # calculate the location of each pixel in the RGB image\n",
    "    rgb_u = np.round((u * 526.37 + dd*(-4.5*1750.46) + 19276.0)/fx)\n",
    "    rgb_v = np.round((v * 526.37 + 16662.0)/fy)\n",
    "    valid_mask = (0<=rgb_u)&(rgb_u < rgb_img.shape[1])&(0<=rgb_v)&(rgb_v<rgb_img.shape[0])\n",
    "    rgb = rgb_img[rgb_v[valid_mask].astype(int), rgb_u[valid_mask].astype(int)]\n",
    "\n",
    "    pc_coord_camera = np.stack([z,-x,-y], axis=-1)[valid_mask]\n",
    "\n",
    "    # roll, pitch, yaw = 0, 0.36, 0.021\n",
    "    # R_pitch = np.array([[np.cos(pitch), 0, np.sin(pitch)],\n",
    "    #                     [0, 1, 0],\n",
    "    #                     [-np.sin(pitch), 0, np.cos(pitch)]])\n",
    "    # R_yaw = np.array([[np.cos(yaw), -np.sin(yaw), 0],\n",
    "    #                     [np.sin(yaw), np.cos(yaw), 0],\n",
    "    #                     [0, 0, 1]])\n",
    "    # R = R_yaw @ R_pitch\n",
    "    bRc = np.array([\n",
    "        [ 0.93569047, -0.02099846,  0.35219656],\n",
    "        [ 0.01965239,  0.99977951,  0.00739722],\n",
    "        [-0.35227423,  0.        ,  0.93589682]\n",
    "    ])\n",
    "    t = np.array([0.18, 0.005, 0.36])\n",
    "    points_robot_center_frame = pc_coord_camera@bRc.T + t\n",
    "\n",
    "    return points_robot_center_frame, rgb\n",
    "\n",
    "def o3d_visualize_points(points, colors):\n",
    "    \"\"\"\n",
    "    Visualize 3D points with colors using Open3D.\n",
    "    \n",
    "    Parameters:\n",
    "    - points: np.array of shape (n, 3), where n is the number of points.\n",
    "    - colors: np.array of shape (n, 3), representing RGB colors normalized between 0 and 1.\n",
    "    \"\"\"\n",
    "    pcd = o3d.geometry.PointCloud()\n",
    "    pcd.points = o3d.utility.Vector3dVector(points)\n",
    "    pcd.colors = o3d.utility.Vector3dVector(colors/255)\n",
    "    coordinate_frame = o3d.geometry.TriangleMesh.create_coordinate_frame(size=2, origin=[0,0,0])\n",
    "    o3d.visualization.draw_geometries([pcd, coordinate_frame])"
   ]
  },
  {
   "cell_type": "code",
   "execution_count": null,
   "metadata": {},
   "outputs": [],
   "source": [
    "all_coord = []\n",
    "all_rgb = []\n",
    "floor_map = np.zeros([*map_size,3], dtype=int)\n",
    "\n",
    "bar = tqdm(range(1, disp_stamps.shape[0], 2))\n",
    "# bar = tqdm(range(1, 2))\n",
    "for disp_index in bar:\n",
    "    # handle rgb-d mismatch\n",
    "    try:\n",
    "        rgb_index = int(f_rgb_index(disp_stamps[disp_index]))\n",
    "    except ValueError:\n",
    "        continue\n",
    "    if rgb_index > rgb_stamps.shape[0]:\n",
    "        continue\n",
    "\n",
    "    d_path = f\"../data/dataRGBD/Disparity{dataset}/disparity{dataset}_{disp_index}.png\"\n",
    "    d_img = cv2.imread(d_path, cv2.IMREAD_UNCHANGED)\n",
    "    rgb_path = f\"../data/dataRGBD/RGB{dataset}/rgb{dataset}_{rgb_index}.png\"\n",
    "    rgb_img = cv2.imread(rgb_path, cv2.IMREAD_UNCHANGED)[...,::-1] # correct order of RGB\n",
    "    # get world point cloud\n",
    "    pc_coord_body, rgb = rgbd_to_3dpc(d_img, rgb_img, step=2)\n",
    "    wTo = odometry_to_transformation(f_odometry(disp_stamps[disp_index]))\n",
    "    r, t = get_Rt(wTo)\n",
    "    pc_coord_world = (pc_coord_body @ r.T) + t\n",
    "\n",
    "    # for floor mapping\n",
    "    floor_mask = np.abs(pc_coord_world[:,2])<0.5\n",
    "    pc_coord_map = (map_resolution*pc_coord_world[floor_mask,:2] + map_center).astype(int)\n",
    "    valid_mask = (0<=pc_coord_map[:,0]) & (pc_coord_map[:,0]<floor_map.shape[1]) & \\\n",
    "                 (0<=pc_coord_map[:,1]) & (pc_coord_map[:,1]<floor_map.shape[0])\n",
    "    floor_map[pc_coord_map[:, 1][valid_mask], pc_coord_map[:, 0][valid_mask]] = rgb[floor_mask][valid_mask]\n",
    "\n",
    "    # for 3d pc cloud\n",
    "    all_coord.append(pc_coord_world)\n",
    "    all_rgb.append(rgb)\n"
   ]
  },
  {
   "cell_type": "code",
   "execution_count": null,
   "metadata": {},
   "outputs": [],
   "source": [
    "# for floor mapping\n",
    "plt.figure(figsize=(10,8))\n",
    "plt.imshow(floor_map, origin='lower')\n",
    "plt.title('Floor RGB Map')\n",
    "odometry_map = map_resolution*odometry[:,:2] + map_center\n",
    "plt.plot(odometry_map[:,0], odometry_map[:,1], color='white', linewidth=1, label=f'{odo_str} trajectory')\n",
    "plt.legend()\n",
    "plt.show()"
   ]
  },
  {
   "cell_type": "code",
   "execution_count": null,
   "metadata": {},
   "outputs": [],
   "source": [
    "# for 3d pc cloud\n",
    "# o3d_visualize_points(np.concatenate(all_coord), np.concatenate(all_rgb))"
   ]
  }
 ],
 "metadata": {
  "kernelspec": {
   "display_name": "base",
   "language": "python",
   "name": "python3"
  },
  "language_info": {
   "codemirror_mode": {
    "name": "ipython",
    "version": 3
   },
   "file_extension": ".py",
   "mimetype": "text/x-python",
   "name": "python",
   "nbconvert_exporter": "python",
   "pygments_lexer": "ipython3",
   "version": "3.11.6"
  }
 },
 "nbformat": 4,
 "nbformat_minor": 2
}
