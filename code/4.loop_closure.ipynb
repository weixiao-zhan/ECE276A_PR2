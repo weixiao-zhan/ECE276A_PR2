{
 "cells": [
  {
   "cell_type": "code",
   "execution_count": null,
   "metadata": {},
   "outputs": [],
   "source": [
    "from pr2_utils import *\n",
    "import gtsam\n",
    "from gtsam.symbol_shorthand import P  # Pose variable\n",
    "from gtsam import NonlinearFactorGraph, Values, Pose2, BetweenFactorPose2, Rot2"
   ]
  },
  {
   "cell_type": "code",
   "execution_count": null,
   "metadata": {},
   "outputs": [],
   "source": [
    "dataset = 20\n",
    "odo_str = \"icp\"\n",
    "\n",
    "with np.load(f\"../data/odometry_icp_{dataset}.npz\") as data:\n",
    "    icp_odometry = data[\"X\"]\n",
    "    icp_odometry_stamp = data[\"stamps\"]\n",
    "\n",
    "with np.load(f\"../data/odometry_imu_{dataset}.npz\") as data:\n",
    "    imu_odometry = data[\"X\"]\n",
    "    imu_odometry_stamp = data[\"stamps\"]\n",
    "\n",
    "# using icp stamp as key\n",
    "f_imu_odometry = InterpN1D(imu_odometry_stamp, imu_odometry)\n",
    "f_icp_odometry = InterpN1D(icp_odometry_stamp, icp_odometry)"
   ]
  },
  {
   "cell_type": "code",
   "execution_count": null,
   "metadata": {},
   "outputs": [],
   "source": [
    "# graph = NonlinearFactorGraph()\n",
    "\n",
    "# initial_estimate = Values()\n",
    "# for i, t in enumerate(imu_odometry_stamp):\n",
    "#     initial_estimate.insert(P(i), Pose2(*icp_odometry[i]))\n",
    "\n",
    "# # Add a prior for the first pose, assuming we start at the origin with no uncertainty\n",
    "# graph.add(gtsam.PriorFactorPose2(P(0), Pose2(0, 0, 0), gtsam.noiseModel.Diagonal.Sigmas([0.1, 0.1, 0.1])))\n",
    "# icp_noise = gtsam.noiseModel.Diagonal.Sigmas([1, 1, 1])\n",
    "# delta_icp_odometry = icp_odometry[1:] - icp_odometry[:-1]\n",
    "# for i, icp_delta_odo in enumerate(delta_icp_odometry):\n",
    "#     delta_pose = Pose2(*icp_delta_odo)\n",
    "#     graph.add(BetweenFactorPose2(P(i), P(i+1), delta_pose, icp_noise))"
   ]
  },
  {
   "cell_type": "code",
   "execution_count": null,
   "metadata": {},
   "outputs": [],
   "source": [
    "graph = NonlinearFactorGraph()\n",
    "\n",
    "time_stamp = icp_odometry_stamp\n",
    "icp_odometry_t = f_icp_odometry(time_stamp)\n",
    "imu_odometry_t = f_imu_odometry(time_stamp)\n",
    "\n",
    "initial_estimate = Values()\n",
    "for i, t in enumerate(time_stamp):\n",
    "    initial_estimate.insert(P(i), Pose2(*imu_odometry_t[i]))\n",
    "\n",
    "# Add a prior for the first pose, assuming we start at the origin with no uncertainty\n",
    "graph.add(gtsam.PriorFactorPose2(P(0), Pose2(0, 0, 0), gtsam.noiseModel.Diagonal.Sigmas([0, 0, 0])))\n",
    "icp_noise = gtsam.noiseModel.Diagonal.Sigmas([5, 5, 1])\n",
    "delta_icp_odometry = icp_odometry_t[1:] - icp_odometry_t[:-1]\n",
    "for i, icp_delta_odo in enumerate(delta_icp_odometry):\n",
    "    delta_pose = Pose2(*icp_delta_odo)\n",
    "    graph.add(BetweenFactorPose2(P(i), P(i+1), delta_pose, icp_noise))\n",
    "\n",
    "# imu_noise = gtsam.noiseModel.Diagonal.Sigmas([0.05, 0.05, 0.01])\n",
    "# delta_imu_odometry = f_imu_odometry(icp_odometry_stamp[1:]) - f_imu_odometry(icp_odometry_stamp[:-1])\n",
    "# for i, delta_imu_odo in enumerate(delta_imu_odometry):\n",
    "#     delta_pose = Pose2(*delta_imu_odo)\n",
    "#     graph.add(BetweenFactorPose2(P(i), P(i+1), delta_pose, imu_noise))"
   ]
  },
  {
   "cell_type": "code",
   "execution_count": null,
   "metadata": {},
   "outputs": [],
   "source": [
    "params = gtsam.LevenbergMarquardtParams()\n",
    "params.setVerbosity(\"Termination\")  # this will show info about stopping conds\n",
    "optimizer = gtsam.LevenbergMarquardtOptimizer(graph, initial_estimate, params)\n",
    "result = optimizer.optimize()"
   ]
  },
  {
   "cell_type": "code",
   "execution_count": null,
   "metadata": {},
   "outputs": [],
   "source": [
    "factor_graph_optimized = []\n",
    "for i in range(icp_odometry_stamp.shape[0]):\n",
    "    pose = result.atPose2(P(i))\n",
    "    factor_graph_optimized.append([pose.x(), pose.y(), pose.theta()])\n",
    "factor_graph_optimized = np.array(factor_graph_optimized)\n",
    "\n",
    "plot_odometry([\n",
    "    (imu_odometry, imu_odometry_stamp, \"imu (motion)\"),\n",
    "    (icp_odometry, icp_odometry_stamp, \"icp (observation)\"),\n",
    "    (factor_graph_optimized, icp_odometry_stamp, \"factor_graph_optimized\")\n",
    "])"
   ]
  },
  {
   "cell_type": "code",
   "execution_count": null,
   "metadata": {},
   "outputs": [],
   "source": [
    "icp_odometry_stamp.shape[0]"
   ]
  },
  {
   "cell_type": "code",
   "execution_count": null,
   "metadata": {},
   "outputs": [],
   "source": [
    "type(result.atPose2(P(1)))"
   ]
  }
 ],
 "metadata": {
  "kernelspec": {
   "display_name": "base",
   "language": "python",
   "name": "python3"
  },
  "language_info": {
   "codemirror_mode": {
    "name": "ipython",
    "version": 3
   },
   "file_extension": ".py",
   "mimetype": "text/x-python",
   "name": "python",
   "nbconvert_exporter": "python",
   "pygments_lexer": "ipython3",
   "version": "3.11.6"
  }
 },
 "nbformat": 4,
 "nbformat_minor": 2
}
