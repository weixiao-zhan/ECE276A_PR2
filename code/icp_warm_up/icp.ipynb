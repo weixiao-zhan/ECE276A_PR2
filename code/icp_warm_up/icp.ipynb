{
 "cells": [
  {
   "cell_type": "code",
   "execution_count": 1,
   "metadata": {},
   "outputs": [
    {
     "name": "stdout",
     "output_type": "stream",
     "text": [
      "Jupyter environment detected. Enabling Open3D WebVisualizer.\n",
      "[Open3D INFO] WebRTC GUI backend enabled.\n",
      "[Open3D INFO] WebRTCWindowSystem: HTTP handshake server disabled.\n"
     ]
    }
   ],
   "source": [
    "import numpy as np\n",
    "from tqdm import tqdm\n",
    "from sklearn.neighbors import NearestNeighbors\n",
    "from utils import read_canonical_model, load_pc, visualize_icp_result, multi_icp, o3d_icp\n",
    "source_pc = read_canonical_model(\"liq_container\")\n",
    "target_pc = load_pc(\"liq_container\", 1)\n",
    "pose = np.eye(4)"
   ]
  },
  {
   "cell_type": "code",
   "execution_count": 23,
   "metadata": {},
   "outputs": [
    {
     "name": "stdout",
     "output_type": "stream",
     "text": [
      "RegistrationResult with fitness=1.000000e+00, inlier_rmse=3.057865e-02, and correspondence_set size of 46563\n",
      "Access transformation to get result.\n",
      "Transformation is:\n",
      "[[ 0.43298923  0.78777549 -0.43809827  0.69257193]\n",
      " [-0.87713564  0.4802309  -0.00336945 -0.0487757 ]\n",
      " [ 0.20773396  0.38573054  0.89892077 -0.00484611]\n",
      " [ 0.          0.          0.          1.        ]]\n",
      "[[ 0.43298923  0.78777549 -0.43809827  0.69257193]\n",
      " [-0.87713564  0.4802309  -0.00336945 -0.0487757 ]\n",
      " [ 0.20773396  0.38573054  0.89892077 -0.00484611]\n",
      " [ 0.          0.          0.          1.        ]]\n"
     ]
    }
   ],
   "source": [
    "T = multi_icp(source_pc, target_pc)\n",
    "visualize_icp_result(source_pc, target_pc, T)"
   ]
  },
  {
   "cell_type": "code",
   "execution_count": 2,
   "metadata": {},
   "outputs": [
    {
     "name": "stdout",
     "output_type": "stream",
     "text": [
      "[[ 0.42346914  0.79299783 -0.43798211  0.69317185]\n",
      " [-0.88394467  0.46752003 -0.00817596 -0.04866781]\n",
      " [ 0.19828189  0.39061422  0.89894651 -0.00596629]\n",
      " [ 0.          0.          0.          1.        ]]\n"
     ]
    }
   ],
   "source": [
    "# Run ICP\n",
    "R, t, error = multi_icp(source_pc, target_pc, trial=2)\n",
    "pose[:3, :3] = R\n",
    "pose[:3, 3] = t\n",
    "print(pose)\n",
    "visualize_icp_result(source_pc, target_pc, pose)"
   ]
  },
  {
   "cell_type": "code",
   "execution_count": null,
   "metadata": {},
   "outputs": [],
   "source": [
    "# visualize the estimated result\n"
   ]
  }
 ],
 "metadata": {
  "kernelspec": {
   "display_name": "base",
   "language": "python",
   "name": "python3"
  },
  "language_info": {
   "codemirror_mode": {
    "name": "ipython",
    "version": 3
   },
   "file_extension": ".py",
   "mimetype": "text/x-python",
   "name": "python",
   "nbconvert_exporter": "python",
   "pygments_lexer": "ipython3",
   "version": "3.11.6"
  }
 },
 "nbformat": 4,
 "nbformat_minor": 2
}
