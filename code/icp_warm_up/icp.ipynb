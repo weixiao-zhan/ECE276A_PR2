{
 "cells": [
  {
   "cell_type": "code",
   "execution_count": null,
   "metadata": {},
   "outputs": [],
   "source": [
    "from utils import read_canonical_model, load_pc, visualize_icp_result, icp, multi_icp, o3d_icp, o3d_fpfh\n",
    "source_pc = read_canonical_model(\"drill\")\n",
    "target_pc = load_pc(\"drill\", 0)"
   ]
  },
  {
   "cell_type": "code",
   "execution_count": null,
   "metadata": {},
   "outputs": [],
   "source": [
    "# Run ICP\n",
    "T, error= icp(source_pc, target_pc)\n",
    "visualize_icp_result(source_pc, target_pc, T)"
   ]
  },
  {
   "cell_type": "code",
   "execution_count": null,
   "metadata": {},
   "outputs": [],
   "source": [
    "T, error = multi_icp(source_pc, target_pc, trial=4)\n",
    "visualize_icp_result(source_pc, target_pc, T)"
   ]
  },
  {
   "cell_type": "code",
   "execution_count": null,
   "metadata": {},
   "outputs": [],
   "source": [
    "T = o3d_fpfh(source_pc, target_pc)\n",
    "print(T)\n",
    "visualize_icp_result(source_pc, target_pc, T)"
   ]
  }
 ],
 "metadata": {
  "kernelspec": {
   "display_name": "base",
   "language": "python",
   "name": "python3"
  },
  "language_info": {
   "codemirror_mode": {
    "name": "ipython",
    "version": 3
   },
   "file_extension": ".py",
   "mimetype": "text/x-python",
   "name": "python",
   "nbconvert_exporter": "python",
   "pygments_lexer": "ipython3",
   "version": "3.11.7"
  }
 },
 "nbformat": 4,
 "nbformat_minor": 2
}
