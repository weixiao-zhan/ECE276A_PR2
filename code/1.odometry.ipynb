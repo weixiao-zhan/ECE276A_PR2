{
 "cells": [
  {
   "cell_type": "code",
   "execution_count": null,
   "metadata": {},
   "outputs": [],
   "source": [
    "from pr2_utils import *"
   ]
  },
  {
   "cell_type": "code",
   "execution_count": null,
   "metadata": {},
   "outputs": [],
   "source": [
    "dataset = 20\n",
    "\n",
    "with np.load(\"../data/Encoders%d.npz\"%dataset) as data:\n",
    "    encoder_counts = data[\"counts\"] # 4 x n encoder counts\n",
    "    encoder_stamps = data[\"time_stamps\"] # encoder time stamps\n",
    "\n",
    "with np.load(\"../data/Imu%d.npz\"%dataset) as data:\n",
    "    imu_angular_velocity = data[\"angular_velocity\"] # angular velocity in rad/sec\n",
    "    imu_linear_acceleration = data[\"linear_acceleration\"] # accelerations in gs (gravity acceleration scaling)\n",
    "    imu_stamps = data[\"time_stamps\"]  # acquisition times of the imu measurements"
   ]
  },
  {
   "cell_type": "code",
   "execution_count": null,
   "metadata": {},
   "outputs": [],
   "source": [
    "yaw = imu_angular_velocity[2,:].T\n",
    "distance = np.cumsum(np.sum(encoder_counts, axis=0)/4*0.0022).T\n",
    "f_distance = interp1d(encoder_stamps, distance, kind='linear')"
   ]
  },
  {
   "cell_type": "code",
   "execution_count": null,
   "metadata": {},
   "outputs": [],
   "source": [
    "n = imu_stamps.shape[0]\n",
    "\n",
    "T_l = (imu_stamps[1:n-1] + imu_stamps[:n-2]) / 2\n",
    "T_r = (imu_stamps[2:] + imu_stamps[1:n-1]) / 2\n",
    "tau = (imu_stamps[2:] - imu_stamps[:n-2]) / 2\n",
    "\n",
    "w_tau = yaw[1:n-1] * tau\n",
    "v_tau = f_distance(T_r) - f_distance(T_l)\n",
    "\n",
    "X = np.zeros([n-1, 3])\n",
    "for i in range (1,n-1):\n",
    "    X[i, :] = X[i-1, :] + np.array([\n",
    "        v_tau[i-1] * np.sinc(w_tau[i-1]) * np.cos(X[i-1, 2] + w_tau[i-1] / 2),\n",
    "        v_tau[i-1] * np.sinc(w_tau[i-1]) * np.sin(X[i-1, 2] + w_tau[i-1] / 2),\n",
    "        w_tau[i-1]\n",
    "    ])\n",
    "\n",
    "X_euler = np.zeros([n-1, 3])\n",
    "for i in range (1,n-1):\n",
    "    X_euler[i, :] = X_euler[i-1, :] + np.array([\n",
    "        v_tau[i-1] * np.cos(X[i-1, 2]),\n",
    "        v_tau[i-1] * np.sin(X[i-1, 2]),\n",
    "        w_tau[i-1]\n",
    "    ])"
   ]
  },
  {
   "cell_type": "code",
   "execution_count": null,
   "metadata": {},
   "outputs": [],
   "source": [
    "plt.plot(X[1:,0], X[1:,1])\n",
    "plt.plot(X_euler[1:,0], X_euler[1:,1])\n",
    "plt.show()"
   ]
  },
  {
   "cell_type": "code",
   "execution_count": null,
   "metadata": {},
   "outputs": [],
   "source": [
    "X[1:].shape, imu_stamps[1:-1].shape"
   ]
  },
  {
   "cell_type": "code",
   "execution_count": null,
   "metadata": {},
   "outputs": [],
   "source": [
    "np.savez(f'../data/odometry_imu_{dataset}.npz', X=X[1:], stamps=imu_stamps[1:-1])"
   ]
  }
 ],
 "metadata": {
  "kernelspec": {
   "display_name": "base",
   "language": "python",
   "name": "python3"
  },
  "language_info": {
   "codemirror_mode": {
    "name": "ipython",
    "version": 3
   },
   "file_extension": ".py",
   "mimetype": "text/x-python",
   "name": "python",
   "nbconvert_exporter": "python",
   "pygments_lexer": "ipython3",
   "version": "3.11.6"
  }
 },
 "nbformat": 4,
 "nbformat_minor": 2
}
