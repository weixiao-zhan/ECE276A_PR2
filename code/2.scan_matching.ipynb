{
 "cells": [
  {
   "cell_type": "code",
   "execution_count": null,
   "metadata": {},
   "outputs": [],
   "source": [
    "from icp_warm_up.utils import icp, o3d_icp, icp_partial\n",
    "from pr2_utils import *"
   ]
  },
  {
   "cell_type": "code",
   "execution_count": null,
   "metadata": {},
   "outputs": [],
   "source": [
    "dataset = 21\n",
    "with np.load(f\"../data/Hokuyo{dataset}.npz\") as data:\n",
    "    lidar_ranges = data[\"ranges\"].T       # range data [m] (Note: values < range_min or > range_max should be discarded)\n",
    "    lidar_stamps = data[\"time_stamps\"]  # acquisition times of the lidar scans\n",
    "\n",
    "with np.load(f\"../data/odometry_imu_{dataset}.npz\") as data:\n",
    "    imu_odometry = data[\"X\"]\n",
    "    imu_odometry_stamp = data[\"stamps\"]\n",
    "\n",
    "f_imu_odometry = InterpN1D(imu_odometry_stamp, imu_odometry)"
   ]
  },
  {
   "cell_type": "code",
   "execution_count": null,
   "metadata": {},
   "outputs": [],
   "source": [
    "plot_scan(lidar_ranges[1400], f_imu_odometry(lidar_stamps[1400]))\n",
    "plot_scan(lidar_ranges[1401], f_imu_odometry(lidar_stamps[1401]))\n",
    "\n",
    "icp_partial(\n",
    "    lidar_scan_to_3dpc(lidar_ranges[1401,:]),\n",
    "    lidar_scan_to_3dpc(lidar_ranges[1400,:]),\n",
    ")"
   ]
  },
  {
   "cell_type": "code",
   "execution_count": null,
   "metadata": {},
   "outputs": [],
   "source": [
    "n = lidar_stamps.shape[0]\n",
    "icp_T = np.zeros([n,4,4])\n",
    "icp_T[0] = np.eye(4)\n",
    "imu_T = odometry_to_transformation(f_imu_odometry(lidar_stamps))\n",
    "sum_error = 0\n",
    "for i in tqdm(range(1, n)):\n",
    "    T_guess = diff_transformation(imu_T[i], imu_T[i-1])\n",
    "    T, error = icp_partial(\n",
    "        lidar_scan_to_3dpc(lidar_ranges[i,:]),\n",
    "        lidar_scan_to_3dpc(lidar_ranges[i-1,:]),\n",
    "        T_guess\n",
    "    )\n",
    "    sum_error += error\n",
    "    icp_T[i] = icp_T[i-1] @ T\n",
    "print(sum_error / n)\n",
    "icp_odometry = transformation_to_odometry(icp_T)"
   ]
  },
  {
   "cell_type": "code",
   "execution_count": null,
   "metadata": {},
   "outputs": [],
   "source": [
    "# with np.load(f\"../data/odometry_icp_{dataset}.npz\") as data:\n",
    "#     odometry_scan_read = data[\"X\"]"
   ]
  },
  {
   "cell_type": "code",
   "execution_count": null,
   "metadata": {},
   "outputs": [],
   "source": [
    "plot_odometry([\n",
    "    (imu_odometry,imu_odometry_stamp, \"imu (motion)\"),\n",
    "    (icp_odometry, lidar_stamps, \"icp (observation)\"),\n",
    "])"
   ]
  },
  {
   "cell_type": "code",
   "execution_count": null,
   "metadata": {},
   "outputs": [],
   "source": [
    "np.savez(f'../data/odometry_icp_{dataset}.npz', X=icp_odometry, stamps=lidar_stamps)"
   ]
  }
 ],
 "metadata": {
  "kernelspec": {
   "display_name": "base",
   "language": "python",
   "name": "python3"
  },
  "language_info": {
   "codemirror_mode": {
    "name": "ipython",
    "version": 3
   },
   "file_extension": ".py",
   "mimetype": "text/x-python",
   "name": "python",
   "nbconvert_exporter": "python",
   "pygments_lexer": "ipython3",
   "version": "3.11.6"
  }
 },
 "nbformat": 4,
 "nbformat_minor": 2
}
