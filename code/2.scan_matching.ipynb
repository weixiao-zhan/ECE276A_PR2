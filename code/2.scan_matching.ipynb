{
 "cells": [
  {
   "cell_type": "code",
   "execution_count": null,
   "metadata": {},
   "outputs": [],
   "source": [
    "from icp_warm_up.utils import icp, o3d_icp\n",
    "from pr2_utils import *"
   ]
  },
  {
   "cell_type": "code",
   "execution_count": null,
   "metadata": {},
   "outputs": [],
   "source": [
    "dataset = 20\n",
    "with np.load(f\"../data/Hokuyo{dataset}.npz\") as data:\n",
    "    lidar_ranges = data[\"ranges\"].T       # range data [m] (Note: values < range_min or > range_max should be discarded)\n",
    "    lidar_stamps = data[\"time_stamps\"]  # acquisition times of the lidar scans\n",
    "\n",
    "with np.load(f\"../data/odometry_imu_{dataset}.npz\") as data:\n",
    "    odometry = data[\"X\"]\n",
    "    odometry_stamp = data[\"stamps\"]\n",
    "\n",
    "f_odometry = InterpN1D(odometry_stamp, odometry)"
   ]
  },
  {
   "cell_type": "code",
   "execution_count": null,
   "metadata": {},
   "outputs": [],
   "source": [
    "plot_scan(lidar_ranges[1400], f_odometry(lidar_stamps[1400]))\n",
    "plot_scan(lidar_ranges[1401], f_odometry(lidar_stamps[1401]))\n",
    "\n",
    "o3d_icp(\n",
    "    lidar_scan_to_3dpc(lidar_ranges[1401,:]),\n",
    "    lidar_scan_to_3dpc(lidar_ranges[1400,:]),\n",
    ")"
   ]
  },
  {
   "cell_type": "code",
   "execution_count": null,
   "metadata": {},
   "outputs": [],
   "source": [
    "n = lidar_stamps.shape[0]\n",
    "T_scan = np.zeros([n,4,4])\n",
    "T_scan[0] = np.eye(4)\n",
    "T_odo = odometry_to_transformation(odometry)\n",
    "sum_error = 0\n",
    "for i in tqdm(range(1, n)):\n",
    "    T_guess = diff_transformation(T_odo[i], T_odo[i-1])\n",
    "    T, error = icp(\n",
    "        lidar_scan_to_3dpc(lidar_ranges[i,:]),\n",
    "        lidar_scan_to_3dpc(lidar_ranges[i-1,:]),\n",
    "        T_guess\n",
    "    )\n",
    "    sum_error += error\n",
    "    T_scan[i] = T_scan[i-1] @ T\n",
    "print(sum_error / n)\n",
    "odometry_scan = transformation_to_odometry(T_scan)"
   ]
  },
  {
   "cell_type": "code",
   "execution_count": null,
   "metadata": {},
   "outputs": [],
   "source": [
    "with np.load(f\"../data/odometry_icp_{dataset}.npz\") as data:\n",
    "    odometry_scan = data[\"X\"]"
   ]
  },
  {
   "cell_type": "code",
   "execution_count": null,
   "metadata": {},
   "outputs": [],
   "source": [
    "plot_odometry([\n",
    "    (odometry,odometry_stamp, \"imu (motion)\"),\n",
    "    (odometry_scan, lidar_stamps, \"icp (observation)\")\n",
    "])"
   ]
  },
  {
   "cell_type": "code",
   "execution_count": null,
   "metadata": {},
   "outputs": [],
   "source": [
    "np.savez(f'../data/odometry_icp_{dataset}.npz', X=odometry_scan, stamps=lidar_stamps)"
   ]
  }
 ],
 "metadata": {
  "kernelspec": {
   "display_name": "base",
   "language": "python",
   "name": "python3"
  },
  "language_info": {
   "codemirror_mode": {
    "name": "ipython",
    "version": 3
   },
   "file_extension": ".py",
   "mimetype": "text/x-python",
   "name": "python",
   "nbconvert_exporter": "python",
   "pygments_lexer": "ipython3",
   "version": "3.11.6"
  }
 },
 "nbformat": 4,
 "nbformat_minor": 2
}
